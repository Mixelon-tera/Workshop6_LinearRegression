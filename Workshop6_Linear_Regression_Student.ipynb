{
  "nbformat": 4,
  "nbformat_minor": 0,
  "metadata": {
    "colab": {
      "name": "Workshop6: Linear Regression_Student.ipynb",
      "provenance": [],
      "collapsed_sections": []
    },
    "kernelspec": {
      "name": "python3",
      "display_name": "Python 3"
    }
  },
  "cells": [
    {
      "cell_type": "markdown",
      "metadata": {
        "id": "trTxV3XqqKkk",
        "colab_type": "text"
      },
      "source": [
        "# Linear Regression (การวิเคราะห์การถดถอยเชิงเส้น)"
      ]
    },
    {
      "cell_type": "code",
      "metadata": {
        "id": "UuefKeYQqK6r",
        "colab_type": "code",
        "colab": {}
      },
      "source": [
        "import numpy as np\n",
        "import matplotlib.pyplot as plt\n",
        "import random"
      ],
      "execution_count": 0,
      "outputs": []
    },
    {
      "cell_type": "markdown",
      "metadata": {
        "id": "fFvPzvoPZjVD",
        "colab_type": "text"
      },
      "source": [
        "ใน workshop นี้เราจะใช้ linear regression ในการทำนายพฤติกรรมของข้อมูล\n",
        "\n",
        "เริ่มต้นเราจะสร้างข้อมูลแบบสุ่มจากสมการเส้นตรง y = mx + c ดังตัวอย่างด้านล่าง\n"
      ]
    },
    {
      "cell_type": "code",
      "metadata": {
        "id": "upypBvYyZSEy",
        "colab_type": "code",
        "colab": {}
      },
      "source": [
        "# กำหนดค่าเริ่มต้นให้ a=5 และ b=3\n",
        "m = 10\n",
        "c = -3\n",
        "\n",
        "# สร้าง list ว่างของ X_list เพื่อเก็บค่า x และ Y_list เพื่อเก็บค่า y\n",
        "X_list = []\n",
        "Y_list = []\n",
        "\n",
        "# P_tuple สำหรับเก็บคุ๋อันดับ x และ y\n",
        "P_tuple = []\n",
        "\n",
        "# ต้องการสร้างคู่อันดับจำนวน 30 คู่\n",
        "for i in range(0, 100):\n",
        "  \n",
        "  # สุ่มค่า x ในช่วง -10 ถึง 10\n",
        "  x = random.randint(-20,20)\n",
        "  X_list.append(x)\n",
        "  \n",
        "  # คำนวนค่า y จากค่า x โดยเพิ่มค่า noise เข้าไปเพื่อให้ข้อมูลมี variance มากขึ้น\n",
        "  # ปกติสมการเส้นตรงคือ y = (m*x) + c แต่กเราเพิ่มค่า random (rd) เข้าไปเพื่อให้ข้อมูลมีความไม่แน่นอนปนอยู่ด้วย\n",
        "  rd = random.random()* 12 * random.uniform(-10, 10)\n",
        "  y = (m*x) + c + rd\n",
        "  Y_list.append(y)\n",
        "  \n",
        "  P_tuple.append((x,y))\n",
        "  \n",
        "  print(\"Generate x=\"+str(x)+ \", y=\"+str(y) +\", noise=\"+str(rd))"
      ],
      "execution_count": 0,
      "outputs": []
    },
    {
      "cell_type": "code",
      "metadata": {
        "id": "YV9lTnMGeMR5",
        "colab_type": "code",
        "colab": {}
      },
      "source": [
        "# ลอง plot ข้อมูลเพื่อดูการกระจายตัวของข้อมูล x และ y\n",
        "\n",
        "# ถ้าต้องการวาดเส้นด้วยต้องกำหนดค่า line=True\n",
        "def plot_graph(X_list,Y_list,m,c,line=False): \n",
        "  plt.scatter(X_list, Y_list)\n",
        "  x = np.linspace(-20,20,100)\n",
        "  y = m*x+c\n",
        "  if line: plt.plot(x, y, '-r')\n",
        "  plt.show()\n",
        "  \n",
        "plot_graph(X_list,Y_list,m,c)"
      ],
      "execution_count": 0,
      "outputs": []
    },
    {
      "cell_type": "markdown",
      "metadata": {
        "id": "983FQ0iLtsD2",
        "colab_type": "text"
      },
      "source": [
        "จะเห็นได้ว่าข้อมูลมีลักษณะของการกระจายตัวที่มีรูปแบบเป็นเส้นตรง ซึ่งเราแอบรู้แล้วว่ามันสร้างมาจาก สมการ y = 5x + 3 (จากที่เรากำหนด m=5 และ c=3) ไว้\n",
        "\n",
        "\n",
        "แต่ในครั้งนี้เราจะสอนให้คอมพิวเตอร์(โมเดล) เรียนรู้ที่จะสร้างสมการเส้นตรงขึ้นมาเองจากข้อมูลคู่อันดับที่เราสร้างขึ้นมา กล่าวคือการที่โมเดลจะสร้างสมการเส้นตรงขึ้นมาได้นั้น \n",
        "\n",
        "\n",
        "เราจะต้องรู้ค่า m และ c โดยที่โมเดลจะต้องประมาณค่า m และ c ที่ทำให้การวางตัวของจุดต่างๆเป็นไปในแนวเดียวกันกับเส้นตรงนั้นมากที่สุด"
      ]
    },
    {
      "cell_type": "markdown",
      "metadata": {
        "id": "piMRR2przqR6",
        "colab_type": "text"
      },
      "source": [
        "## สร้าง Hypothesis Function\n",
        "\n",
        "1. กำหนด Hypothesis Function หรือโมเดลของเราขึ้นมาดังนี้\n",
        "\n",
        "> h($\\Theta$) = $\\Theta_{1}$x + $\\Theta_{0}$\n",
        "\n",
        "ซึ่งจริงๆแล้ว h($\\Theta$) ก็คือค่า y \n",
        "\n",
        "$\\Theta_{1}$ คือค่า m \n",
        "\n",
        "$\\Theta_{0}$ คือค่า c นั่นเอง\n",
        "\n",
        "มันก็คือสมการเส้นตรงนั่นเองเพียงแต่เขียนให้ดูน่ากลัวเท่านั้นเอง 5555"
      ]
    },
    {
      "cell_type": "code",
      "metadata": {
        "id": "htMfhUpVcZ7u",
        "colab_type": "code",
        "colab": {}
      },
      "source": [
        "# TODO:1-1 จงสร้างฟังก์ชันที่คืนค่า y ของ hypothesis function\n",
        "\n",
        "def hypothesis(theta0, theta1, x):\n",
        "  ### CODE HERE ############\n",
        "  \n",
        "\t \n",
        "\n",
        "  ##########################"
      ],
      "execution_count": 0,
      "outputs": []
    },
    {
      "cell_type": "code",
      "metadata": {
        "id": "jowhsOy9e3Nv",
        "colab_type": "code",
        "colab": {}
      },
      "source": [
        "### Test code for TODO:1 ###\n",
        "\n",
        "test1 = hypothesis(4.7268, -3.6136, 8.3689)\n",
        "print(test1)\n",
        "\n",
        "#####################################\n",
        "### ผลลัพธ์ที่ได้ควรจะเป็น -25.51505704 ###\n",
        "#####################################"
      ],
      "execution_count": 0,
      "outputs": []
    },
    {
      "cell_type": "markdown",
      "metadata": {
        "id": "Gj1bMyj505xz",
        "colab_type": "text"
      },
      "source": [
        "2. ในขั้นนี้เราจะกำหนดค่าเริ่มต้นให้กับ $\\Theta_{1}$ (ค่า m) และ $\\Theta_{0}$ (ค่า c) แบบสุ่มให้กับ hypothesis function ของเราเพื่อให้โมเดลมีจุดเริ่มต้นที่จะเรียนรู้"
      ]
    },
    {
      "cell_type": "code",
      "metadata": {
        "id": "ZN5Oy-A617K0",
        "colab_type": "code",
        "colab": {}
      },
      "source": [
        "# TODO:1-2 กำหนดค่าเริ่มต้นให้กับ theta0 และ theta1 แบบสุ่ม\n",
        "\n",
        "### CODE HERE #######################\n",
        "\n",
        "\n",
        "\n",
        "\n",
        "#####################################\n",
        "\n",
        "print(\"Theta 0 is :\",theta0)\n",
        "print(\"Theta 1 is :\",theta1)\n",
        "\n",
        "plot_graph(X_list,Y_list,theta1,theta0,line=True)\n",
        "\n",
        "#################################################\n",
        "### ผลลัพธ์ที่ได้อาจแตกต่างกันเนื่องจากผลจากการ random ###\n",
        "### แต่ต้องได้กราฟที่มัลักษณะคล้ายกับรูปด้านล่าง ############         \n",
        "#################################################"
      ],
      "execution_count": 0,
      "outputs": []
    },
    {
      "cell_type": "markdown",
      "metadata": {
        "id": "zRx8-6ocgnlh",
        "colab_type": "text"
      },
      "source": [
        "ตัวอย่างผลลัพธ์ที่จากการ plot \n",
        "\n",
        "<img src='https://github.com/Mixelon-tera/Workshop6_LinearRegression/raw/master/graph_ws6.png' width=400 />"
      ]
    },
    {
      "cell_type": "markdown",
      "metadata": {
        "id": "CCEQTkbP2r0X",
        "colab_type": "text"
      },
      "source": [
        "จะเห็นว่าเมื่อค่า theta0 และ theta1 ที่ได้จากการสุ่มทำให้โมเดลสร้างสมการเส้นตรงแบบมั่วๆออกมาได้"
      ]
    },
    {
      "cell_type": "markdown",
      "metadata": {
        "id": "p2CjehaB3geZ",
        "colab_type": "text"
      },
      "source": [
        "## สร้าง Loss Function\n",
        "\n",
        "การทำให้โมเดลสามารถเรียนรู้ที่จะแก้ไขค่า $\\Theta_{1}$ และ $\\Theta_{0}$ เพื่อปรับปรุงให้เส้นตรงมีทิศทางไปในแนวเดียวกันกับข้อมูล จึงมีความจำเป็นที่จะต้องกำหนด loss function หรือ cost function ขึ้นมา ซึ่งค่าที่ได้จากการคำนวน loss function จะเป็นตัวบ่งชี้ว่าสมการเส้นตรงที่โมเดลสร้างขึ้นมานั้นดีหรือห่วยมากน้อยเพียงใด โดยถ้าหากว่าเส้นตรงที่สร้างขึ้นมานั้นมีระยะห่างจากคู่จุดใดๆอยู่มากแสดงว่าไม่ดี ค่า loss ก็จะสูงในทางตรงกันข้ามหากมีระยะห่างน้อยแสดงว่าดี ค่า loss ก็จะมีค่าต่ำ\n",
        "\n",
        "สำหรับ linear regression นั้น loss function ที่มักนิยมใช้คือ MSE (Mean square error) ซึ่งมีสมการดังนี้\n",
        "\n",
        "> MSE = $\\frac{1}{n}\\sum_{t=1}^{n}(y - \\tilde{y})^2$\n",
        "\n",
        "ซึ่ง y คือค่าจริง, $\\tilde{y}$ คือ ค่าที่ได้จากการทำนาย, และ n คือจำนวนข้อมูลทั้งหมด\n",
        "\n",
        "ในขั้นตอนที่ 2 เราได้ plot ข้อมูล x,y และ สมการ x,y ที่ได้จากการสุ่มค่า $\\Theta_{1}$ และ $\\Theta_{0}$ เราสามารถคำนวน error จากสมการข้างต้นได้ดังนี้"
      ]
    },
    {
      "cell_type": "code",
      "metadata": {
        "id": "NqN_UFpQ6g4z",
        "colab_type": "code",
        "colab": {}
      },
      "source": [
        "# TODO:2-1 สร้าง loss function\n",
        "\n",
        "def cal_MSE(y, y_pred):\n",
        "  \n",
        "  ### CODE HERE ##############\n",
        "  \n",
        "  \n",
        "  \n",
        "  \n",
        "  \n",
        "  \n",
        "\n",
        "  ############################"
      ],
      "execution_count": 0,
      "outputs": []
    },
    {
      "cell_type": "code",
      "metadata": {
        "id": "jk_8xg8QuHjG",
        "colab_type": "code",
        "colab": {}
      },
      "source": [
        "### Test code for TODO:2-1 ###\n",
        "\n",
        "y3 = [1.50, -2.73, 8.62, -12.14, 4.78]\n",
        "y3_pred = [1.73, 1.68, -3.57, -10.92, 3.68]\n",
        "\n",
        "td3 = cal_MSE(y3,y3_pred)\n",
        "print(td3)\n",
        "\n",
        "#####################################\n",
        "### ผลลัพธ์ที่ได้ควรจะเป็น 34.1591 #######\n",
        "#####################################"
      ],
      "execution_count": 0,
      "outputs": []
    },
    {
      "cell_type": "markdown",
      "metadata": {
        "id": "bcLgfNh8HABK",
        "colab_type": "text"
      },
      "source": [
        "คำนวนค่า error เฉลี่ยจาก loss function ดังกล่าวจากข้อมูล X_list และ Y_list ที่เราสร้างขึ้นมาก่อนหน้านี้"
      ]
    },
    {
      "cell_type": "code",
      "metadata": {
        "id": "IUyt8rDC2pdu",
        "colab_type": "code",
        "colab": {}
      },
      "source": [
        "# TODO:2-2 คำนวนค่า loss ของข้อมูลทั้งหมดใน X_list และ Y_list\n",
        "\n",
        "total_loss = 0 \n",
        "\n",
        "### CODE HERE #######################################\n",
        "\n",
        "\n",
        "\n",
        "\n",
        "\n",
        "\n",
        "\n",
        "  \n",
        "#####################################################\n",
        "  \n",
        "print(\"\\nTotal loss =\", total_loss)"
      ],
      "execution_count": 0,
      "outputs": []
    },
    {
      "cell_type": "markdown",
      "metadata": {
        "id": "itlEDaWwC_Ih",
        "colab_type": "text"
      },
      "source": [
        "## การคำนวน Derivatives\n",
        "\n",
        "ค่า loss ที่ได้จาก loss function เป็นค่าที่บอกถึงความผิดพลาดของโมเดลในการประมาณค่าของเส้นตรง เราจะนำค่า loss นี้มาบอกค่าความผิดพลาดของโมเดลปัจจุบัน และควรปรับโมเดลไปในทิศทางใด ซึงสิ่งที่โมเดลจะต้องปรับเราจะเรียกว่า weight ซึ่งในที่นี้คือค่า $\\theta_{0}$ และ $\\theta_{1}$ ที่ปรากฏอยู่ใน hypothesis function\n",
        "\n",
        "ในขั้นตอนของการปรับ weight โมเดลจะนำค่า loss มาคำนวนสิ่งที่เรียกว่า gradient ซึ่งเป็นค่าที่ได้จากการคำนวนหาอนุพันธ์จากค่า loss มาปรับค่า $\\theta_{0}$ และ $\\theta_{1}$\n",
        "\n",
        "<img src='https://miro.medium.com/max/1400/1*91DQMNKmNIdncqx6FsB4Iw.png'  width='500px'/>\n",
        "\n",
        "เป้าหมายของเราคือ จะต้องใช้ gradient ปรับ weight เพื่อให้ค่า loss ของ model มีค่าต่ำที่สุดเท่าที่จะเป็นไปได้"
      ]
    },
    {
      "cell_type": "code",
      "metadata": {
        "id": "qezEalsU6bVa",
        "colab_type": "code",
        "colab": {}
      },
      "source": [
        "# TODO:3 คำนวนค่า derivatives ของ hypothesis function เทียบกับ theta0 และ theta1\n",
        "# ดังนัั้นฟังก์ชันนี้จะคืนค่า 2 ค่านั่นคือค่าที่ได้จากการดิฟด้วย theta0 คือ dtheta0 และ theta1 คือ dtheta1\n",
        "# กำหนดให้ theta1 คือ m และ theta0 คือ c ในสมการเส้นตรง\n",
        "\n",
        "def derivatives(theta0, theta1, X_list, Y_list):\n",
        "\tdtheta0 = 0\n",
        "\tdtheta1 = 0\n",
        "  \n",
        "  ### CODE HERE #########################################\n",
        "  \n",
        "\t\n",
        "  \n",
        "  \n",
        "  \n",
        "  \n",
        "  \n",
        "\n",
        "  #######################################################\n",
        "  \n",
        "\treturn dtheta0, dtheta1"
      ],
      "execution_count": 0,
      "outputs": []
    },
    {
      "cell_type": "code",
      "metadata": {
        "id": "M6Bned9DoFJB",
        "colab_type": "code",
        "colab": {}
      },
      "source": [
        "### Test code for TODO:3 ###\n",
        "\n",
        "dt30 , dt31 = derivatives(3.24, 5.66, [1.45, -2.45, 5.38, -5.49], [10.46, -4.25, -5.83, 13.87])\n",
        "\n",
        "print(dt30, dt31)\n",
        "\n",
        "######################################################\n",
        "### ผลลัพธ์ที่ได้ควรจะเป็น -1.89315 และ 114.6570925 #######\n",
        "######################################################"
      ],
      "execution_count": 0,
      "outputs": []
    },
    {
      "cell_type": "markdown",
      "metadata": {
        "id": "xhzSFiFYqasZ",
        "colab_type": "text"
      },
      "source": [
        "หลังจากเราคำนวน gradient ของ theta1 และ theta0 ได้แล้วขั้นตอนต่อไปคือการปรับค่า theta1 และ theta0 ใน hypothesis function (ปรับ weight) เพื่อให้เส้นตรงของเราค่อยๆปรับไปตามข้อมูล"
      ]
    },
    {
      "cell_type": "code",
      "metadata": {
        "id": "t6vH4gGmWdld",
        "colab_type": "code",
        "colab": {}
      },
      "source": [
        "# TODO:4 สร้างฟังก์ชันสำหรับปรับ weight (ค่า theta1 และ theta0) \n",
        "\n",
        "def updateParameters(theta0, theta1, X_list, Y_list, alpha):\n",
        "  \n",
        "  ### CODE HERE ################################################\n",
        "  \n",
        "  # Step1: คำนวนค่า derivartive ของ theta1 และ theta0 \n",
        "\t\n",
        "  # Step2: ปรับค่า theta1 และ theta0 ไปตามค่า alpha และค่า gradient \n",
        "\t\n",
        "  \n",
        "  \n",
        "  \n",
        "  ##############################################################\n",
        "  \n",
        "\treturn theta0, theta1"
      ],
      "execution_count": 0,
      "outputs": []
    },
    {
      "cell_type": "code",
      "metadata": {
        "id": "uyy1pkqfsHhT",
        "colab_type": "code",
        "colab": {}
      },
      "source": [
        "### Test code for TODO:4 ###\n",
        "\n",
        "tt40, tt41 = updateParameters(3.24, 5.66, [1.45, -2.45, 5.38, -5.49], [10.46, -4.25, -5.83, 13.87], 0.1)\n",
        "\n",
        "print(tt40,tt41)\n",
        "\n",
        "######################################################################\n",
        "### ผลลัพธ์ที่ได้ควรจะเป็น 3.4293150000000003 และ -5.805709250000001 #######\n",
        "######################################################################"
      ],
      "execution_count": 0,
      "outputs": []
    },
    {
      "cell_type": "code",
      "metadata": {
        "id": "01XBxwJIXFud",
        "colab_type": "code",
        "colab": {}
      },
      "source": [
        "# TODO:5 สร้างฟังก์ชัน LinearRegression โดยรับค่า X_list และ Y_list \n",
        "# โดยคำนวนหาค่า theta1 และ theta0 ที่ทำให้เส้นตรงวางตัวไปในแนวเดียวกันกับข้อมูล \n",
        "# กล่าวคือปรับจนกว่าจะได้ค่า loss ต่ำสุดเท่าที่เป็นไปได้ => กำหนดให้มีการปรับ weight จำนวน epoch ครั้ง\n",
        "# จากนั้นพล๊อตกราฟแสดงข้อมูลและเส้นตรง (เรียกฟังก์ชัน plot_graph) ในทุกๆ step ของการปรับ weight\n",
        "\n",
        "def LinearRegression(X_list, Y_list, epoch, alpha=0.0002):\n",
        "  ### CODE HERE #############################################################\n",
        "  \n",
        "  # Step1: กำหนดค่าเริ่มต้นให้กับ theta1 และ theta0 แบบสุ่ม (ใช้ฟังก์ชัน random)\n",
        "\t\n",
        "  \n",
        "  \n",
        "  # Step2: วนลูปเพื่อใช้ในการปรับ weight ให้กับ model\n",
        "\t\n",
        "    # Step3: ในทุกๆ 100 step ให้ plot graph เพื่อแสดงข้อมูลและเส้นตรงปัจจุบัน (อย่าลืมกำหนด line=True)\n",
        "\t\t\n",
        "    \n",
        "    # Step4: ปรับ weight ให้กับค่า theta1 และ theta0  \n",
        "\t\t\n",
        "  \n",
        "\treturn theta1,theta0"
      ],
      "execution_count": 0,
      "outputs": []
    },
    {
      "cell_type": "code",
      "metadata": {
        "id": "5M-rWggXXNQD",
        "colab_type": "code",
        "colab": {}
      },
      "source": [
        "### Test code for TODO:5 ###\n",
        "### ไปเรียก TA มาตรวจ #######\n",
        "\n",
        "new_m, new_c = LinearRegression(X_list, Y_list, epoch=8000, alpha=0.0001)"
      ],
      "execution_count": 0,
      "outputs": []
    },
    {
      "cell_type": "markdown",
      "metadata": {
        "id": "xm0Euvwhw5nE",
        "colab_type": "text"
      },
      "source": [
        "ทดลอง print ค่า theta1 และ theta0 ออกมาดูสิจะเห็นได้ว่าค่าที่ได้มีค่าเข้าใกล้ค่าที่เรากำหนดไว้ตอนต้น\n"
      ]
    },
    {
      "cell_type": "code",
      "metadata": {
        "id": "fenGYDFIXaht",
        "colab_type": "code",
        "colab": {}
      },
      "source": [
        "print(new_m, new_c)"
      ],
      "execution_count": 0,
      "outputs": []
    },
    {
      "cell_type": "code",
      "metadata": {
        "id": "h5QbESOi1Fc6",
        "colab_type": "code",
        "colab": {}
      },
      "source": [
        ""
      ],
      "execution_count": 0,
      "outputs": []
    }
  ]
}